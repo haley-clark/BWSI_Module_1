{
 "cells": [
  {
   "cell_type": "code",
   "execution_count": null,
   "id": "c4fb0783-ad1b-4eab-84a3-3092fc16fc40",
   "metadata": {},
   "outputs": [],
   "source": [
    "fig = plt.figure()\n",
    "ax = fig.add_subplot(1,1,1)\n",
    "polygon_patch = shapely.plotting.patch_from_polygon(poly, facecolor='#FF6600', edgecolor='black', alpha=0.5, linewidth=1)\n",
    "ax.add_patch(polygon_patch)\n",
    "x_min, y_min, x_max, y_max = poly.bounds\n",
    "plt.show()\n",
    "\n",
    "from shapely.affinity import affine_transform, rotate, skew, scale, translate\n",
    "from shapely.geometry import MultiPoint, MultiLineString, MultiPolygon, box\n",
    "\n",
    "import matplotlib as mpl\n",
    "from matplotlib import pyplot as plt  # pyplot is a subpackage of matplotlib, and provides the interface that we'll use to create plots\n",
    "# plt.style.use('seaborn-whitegrid')  # set default visual appearance\n",
    "plt.style.use('seaborn-v0_8-whitegrid')  # set default visual appearance\n"
   ]
  }
 ],
 "metadata": {
  "kernelspec": {
   "display_name": "Python 3 (ipykernel)",
   "language": "python",
   "name": "python3"
  },
  "language_info": {
   "codemirror_mode": {
    "name": "ipython",
    "version": 3
   },
   "file_extension": ".py",
   "mimetype": "text/x-python",
   "name": "python",
   "nbconvert_exporter": "python",
   "pygments_lexer": "ipython3",
   "version": "3.11.6"
  }
 },
 "nbformat": 4,
 "nbformat_minor": 5
}
